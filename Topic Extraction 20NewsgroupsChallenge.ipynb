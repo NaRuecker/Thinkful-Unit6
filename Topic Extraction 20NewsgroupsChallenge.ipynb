{
 "cells": [
  {
   "cell_type": "code",
   "execution_count": 4,
   "metadata": {},
   "outputs": [],
   "source": [
    "import numpy as np\n",
    "import pandas as pd\n",
    "import scipy\n",
    "import matplotlib.pyplot as plt\n",
    "import seaborn as sns\n",
    "%matplotlib inline\n",
    "import glob, os"
   ]
  },
  {
   "cell_type": "markdown",
   "metadata": {},
   "source": [
    "# Challenge: Topic extraction on new data\n",
    "\n",
    "Take the well-known [20 newsgroups](http://qwone.com/~jason/20Newsgroups/) dataset and use each of the methods on it.  Your goal is to determine which method, if any, best reproduces the topics represented by the newsgroups.  Write up a report where you evaluate each method in light of the 'ground truth'- the known source of each newsgroup post.  Which works best, and why do you think this is the case?\n",
    "\n",
    "# Prepare the data"
   ]
  },
  {
   "cell_type": "code",
   "execution_count": 19,
   "metadata": {},
   "outputs": [
    {
     "name": "stdout",
     "output_type": "stream",
     "text": [
      "In total there are 11314 files to be analysed.\n",
      "The longest document has a length of 75154 words.\n",
      "The shortedt document has a length of 125 words.\n",
      "11314\n",
      "11314\n",
      "11314\n",
      "11314\n"
     ]
    }
   ],
   "source": [
    "# Get the data and combine it into one csv\n",
    "numberoftextfiles=0\n",
    "NewsCat=[]\n",
    "Content=[]\n",
    "Title=[]\n",
    "Length=[]\n",
    "\n",
    "for folder in os.listdir('20news-bydate.tar/20news-bydate-train'):\n",
    "    #print(folder)\n",
    "    pathtofolder='20news-bydate.tar/20news-bydate-train/'+folder+'/*'\n",
    "    for file in glob.glob(pathtofolder):\n",
    "        #print(file)\n",
    "        try:\n",
    "            file_object = open(file, 'r') \n",
    "            text=file_object.read()\n",
    "            Content.append(text)\n",
    "            Length.append(len(text))\n",
    "            Title.append(file)\n",
    "            NewsCat.append(folder)\n",
    "            numberoftextfiles=numberoftextfiles+1\n",
    "        except:\n",
    "            pass\n",
    "    \n",
    "print('In total there are',numberoftextfiles,'files to be analysed.')   \n",
    "print('The longest document has a length of',max(Length),'words.')  \n",
    "print('The shortedt document has a length of',min(Length),'words.')  \n",
    "print(len(Content))\n",
    "print(len(NewsCat))\n",
    "print(len(Length))\n",
    "print(len(Title))"
   ]
  },
  {
   "cell_type": "code",
   "execution_count": 22,
   "metadata": {},
   "outputs": [
    {
     "data": {
      "text/html": [
       "<div>\n",
       "<style scoped>\n",
       "    .dataframe tbody tr th:only-of-type {\n",
       "        vertical-align: middle;\n",
       "    }\n",
       "\n",
       "    .dataframe tbody tr th {\n",
       "        vertical-align: top;\n",
       "    }\n",
       "\n",
       "    .dataframe thead th {\n",
       "        text-align: right;\n",
       "    }\n",
       "</style>\n",
       "<table border=\"1\" class=\"dataframe\">\n",
       "  <thead>\n",
       "    <tr style=\"text-align: right;\">\n",
       "      <th></th>\n",
       "      <th>NewsCat</th>\n",
       "      <th>Title</th>\n",
       "      <th>Length</th>\n",
       "      <th>Content</th>\n",
       "    </tr>\n",
       "  </thead>\n",
       "  <tbody>\n",
       "    <tr>\n",
       "      <th>0</th>\n",
       "      <td>alt.atheism</td>\n",
       "      <td>20news-bydate.tar/20news-bydate-train/alt.athe...</td>\n",
       "      <td>11891</td>\n",
       "      <td>From: mathew &lt;mathew@mantis.co.uk&gt;\\nSubject: A...</td>\n",
       "    </tr>\n",
       "    <tr>\n",
       "      <th>1</th>\n",
       "      <td>alt.atheism</td>\n",
       "      <td>20news-bydate.tar/20news-bydate-train/alt.athe...</td>\n",
       "      <td>32056</td>\n",
       "      <td>From: mathew &lt;mathew@mantis.co.uk&gt;\\nSubject: A...</td>\n",
       "    </tr>\n",
       "    <tr>\n",
       "      <th>2</th>\n",
       "      <td>alt.atheism</td>\n",
       "      <td>20news-bydate.tar/20news-bydate-train/alt.athe...</td>\n",
       "      <td>4092</td>\n",
       "      <td>From: I3150101@dbstu1.rz.tu-bs.de (Benedikt Ro...</td>\n",
       "    </tr>\n",
       "    <tr>\n",
       "      <th>3</th>\n",
       "      <td>alt.atheism</td>\n",
       "      <td>20news-bydate.tar/20news-bydate-train/alt.athe...</td>\n",
       "      <td>1627</td>\n",
       "      <td>From: mathew &lt;mathew@mantis.co.uk&gt;\\nSubject: R...</td>\n",
       "    </tr>\n",
       "    <tr>\n",
       "      <th>4</th>\n",
       "      <td>alt.atheism</td>\n",
       "      <td>20news-bydate.tar/20news-bydate-train/alt.athe...</td>\n",
       "      <td>773</td>\n",
       "      <td>From: strom@Watson.Ibm.Com (Rob Strom)\\nSubjec...</td>\n",
       "    </tr>\n",
       "  </tbody>\n",
       "</table>\n",
       "</div>"
      ],
      "text/plain": [
       "       NewsCat                                              Title  Length  \\\n",
       "0  alt.atheism  20news-bydate.tar/20news-bydate-train/alt.athe...   11891   \n",
       "1  alt.atheism  20news-bydate.tar/20news-bydate-train/alt.athe...   32056   \n",
       "2  alt.atheism  20news-bydate.tar/20news-bydate-train/alt.athe...    4092   \n",
       "3  alt.atheism  20news-bydate.tar/20news-bydate-train/alt.athe...    1627   \n",
       "4  alt.atheism  20news-bydate.tar/20news-bydate-train/alt.athe...     773   \n",
       "\n",
       "                                             Content  \n",
       "0  From: mathew <mathew@mantis.co.uk>\\nSubject: A...  \n",
       "1  From: mathew <mathew@mantis.co.uk>\\nSubject: A...  \n",
       "2  From: I3150101@dbstu1.rz.tu-bs.de (Benedikt Ro...  \n",
       "3  From: mathew <mathew@mantis.co.uk>\\nSubject: R...  \n",
       "4  From: strom@Watson.Ibm.Com (Rob Strom)\\nSubjec...  "
      ]
     },
     "execution_count": 22,
     "metadata": {},
     "output_type": "execute_result"
    }
   ],
   "source": [
    "# Safe information in a df\n",
    "df=pd.DataFrame(columns=['NewsCat','Title','Length','Content'])\n",
    "df['NewsCat']=NewsCat\n",
    "df['Title']=Title\n",
    "df['Length']=Length\n",
    "df['Content']=Content\n",
    "df.head()"
   ]
  },
  {
   "cell_type": "code",
   "execution_count": 28,
   "metadata": {},
   "outputs": [
    {
     "name": "stdout",
     "output_type": "stream",
     "text": [
      "20\n"
     ]
    },
    {
     "data": {
      "text/plain": [
       "array(['alt.atheism', 'comp.graphics', 'comp.os.ms-windows.misc',\n",
       "       'comp.sys.ibm.pc.hardware', 'comp.sys.mac.hardware',\n",
       "       'comp.windows.x', 'misc.forsale', 'rec.autos', 'rec.motorcycles',\n",
       "       'rec.sport.baseball', 'rec.sport.hockey', 'sci.crypt',\n",
       "       'sci.electronics', 'sci.med', 'sci.space',\n",
       "       'soc.religion.christian', 'talk.politics.guns',\n",
       "       'talk.politics.mideast', 'talk.politics.misc',\n",
       "       'talk.religion.misc'], dtype=object)"
      ]
     },
     "execution_count": 28,
     "metadata": {},
     "output_type": "execute_result"
    }
   ],
   "source": [
    "# Unique categories\n",
    "print(len(df.NewsCat.unique()))\n",
    "df.NewsCat.unique()"
   ]
  },
  {
   "cell_type": "markdown",
   "metadata": {},
   "source": [
    "# Generate a tfidf-matrix for the documents"
   ]
  },
  {
   "cell_type": "code",
   "execution_count": 23,
   "metadata": {},
   "outputs": [],
   "source": [
    "from sklearn.feature_extraction.text import TfidfVectorizer\n",
    "\n",
    "# Creating the tf-idf matrix.\n",
    "#Initiate the vectorizer\n",
    "vectorizer = TfidfVectorizer(max_df=0.5, # drop words that occur in more than 50% of all the paragraphs\n",
    "                                min_df=4, # only use words that appear at least 4 times\n",
    "                                stop_words='english', \n",
    "                                lowercase=True, #convert everything to lower case (since Alice in Wonderland has the HABIT of CAPITALIZING WORDS for EMPHASIS)\n",
    "                                use_idf=True,#we definitely want to use inverse document frequencies in our weighting\n",
    "                                norm=u'l2', #Applies a correction factor so that longer paragraphs and shorter paragraphs get treated equally\n",
    "                                smooth_idf=True, #Adds 1 to all document frequencies, as if an extra document existed that used every word once.  Prevents divide-by-zero errors\n",
    "                                ngram_range=(1, 1) # include 1,1 word combinations\n",
    "                            )\n",
    "\n",
    "# Fit the vectorizer using the training set\n",
    "Content_tfidf=vectorizer.fit_transform(Content)"
   ]
  },
  {
   "cell_type": "code",
   "execution_count": 59,
   "metadata": {},
   "outputs": [],
   "source": [
    "# Getting the word list.\n",
    "terms = vectorizer.get_feature_names()\n",
    "#print(len(terms))\n",
    "#print(terms[0:10])\n",
    "# Number of topics, as we have 20 news categories\n",
    "# But lets first focus on the 6 main categories\n",
    "ntopics=6"
   ]
  },
  {
   "cell_type": "code",
   "execution_count": 60,
   "metadata": {},
   "outputs": [],
   "source": [
    "# Linking words to topics\n",
    "def word_topic(tfidf,solution, wordlist):\n",
    "    \n",
    "    # Loading scores for each word on each topic/component.\n",
    "    words_by_topic=tfidf.T * solution\n",
    "\n",
    "    # Linking the loadings to the words in an easy-to-read way.\n",
    "    components=pd.DataFrame(words_by_topic,index=wordlist)\n",
    "    \n",
    "    return components\n",
    "\n",
    "# Extracts the top N words and their loadings for each topic.\n",
    "def top_words(components, n_top_words):\n",
    "    n_topics = range(components.shape[1]) # get the number of components/topics\n",
    "    index= np.repeat(n_topics, n_top_words, axis=0) #(what to repeat, number of repeats, axis along which to repeat)\n",
    "    topwords=pd.Series(index=index)\n",
    "    for column in range(components.shape[1]):\n",
    "        # Sort the column so that highest loadings are at the top.\n",
    "        sortedwords=components.iloc[:,column].sort_values(ascending=False)\n",
    "        # Choose the N highest loadings.\n",
    "        chosen=sortedwords[:n_top_words]\n",
    "        # Combine loading and index into a string.\n",
    "        chosenlist=chosen.index +\" \"+round(chosen,2).map(str) \n",
    "        topwords.loc[column]=chosenlist\n",
    "    return(topwords)\n",
    "\n",
    "# Number of words to look at for each topic.\n",
    "n_top_words = 5"
   ]
  },
  {
   "cell_type": "markdown",
   "metadata": {},
   "source": [
    "# Topic extraction\n",
    "## LSA"
   ]
  },
  {
   "cell_type": "code",
   "execution_count": 61,
   "metadata": {},
   "outputs": [],
   "source": [
    "# LSA\n",
    "\n",
    "from sklearn.decomposition import TruncatedSVD\n",
    "from sklearn.pipeline import make_pipeline\n",
    "from sklearn.preprocessing import Normalizer\n",
    "\n",
    "svd= TruncatedSVD(ntopics)\n",
    "lsa = make_pipeline(svd, Normalizer(copy=False))\n",
    "Content_lsa = lsa.fit_transform(Content_tfidf)\n",
    "\n",
    "#print('TFIDF shape:',Content_tfidf.shape)\n",
    "#print('paras-lsa shape:',Content_lsa.shape)\n",
    "\n",
    "components_lsa = word_topic(Content_tfidf, Content_lsa, terms)\n",
    "\n",
    "#print(components_lsa.head(10))\n",
    "\n",
    "topwords=pd.DataFrame()\n",
    "topwords['LSA']=top_words(components_lsa, n_top_words)     "
   ]
  },
  {
   "cell_type": "markdown",
   "metadata": {},
   "source": [
    "## LDA"
   ]
  },
  {
   "cell_type": "code",
   "execution_count": 62,
   "metadata": {},
   "outputs": [
    {
     "name": "stderr",
     "output_type": "stream",
     "text": [
      "C:\\Users\\Ruecker-PC\\Anaconda3\\lib\\site-packages\\sklearn\\decomposition\\online_lda.py:294: DeprecationWarning: n_topics has been renamed to n_components in version 0.19 and will be removed in 0.21\n",
      "  DeprecationWarning)\n",
      "C:\\Users\\Ruecker-PC\\Anaconda3\\lib\\site-packages\\sklearn\\decomposition\\online_lda.py:536: DeprecationWarning: The default value for 'learning_method' will be changed from 'online' to 'batch' in the release 0.20. This warning was introduced in 0.18.\n",
      "  DeprecationWarning)\n"
     ]
    },
    {
     "name": "stdout",
     "output_type": "stream",
     "text": [
      "TFIDF shape: (11314, 30508)\n",
      "paras_lda shape: (11314, 6)\n"
     ]
    }
   ],
   "source": [
    "# LDA\n",
    "from sklearn.decomposition import LatentDirichletAllocation as LDA\n",
    "\n",
    "lda = LDA(n_topics=ntopics, \n",
    "          doc_topic_prior=None, # Prior = 1/n_documents\n",
    "          topic_word_prior=1/ntopics,\n",
    "          learning_decay=0.7, # Convergence rate.\n",
    "          learning_offset=10.0, # Causes earlier iterations to have less influence on the learning\n",
    "          max_iter=10, # when to stop even if the model is not converging (to prevent running forever)\n",
    "          evaluate_every=-1, # Do not evaluate perplexity, as it slows training time.\n",
    "          mean_change_tol=0.001, # Stop updating the document topic distribution in the E-step when mean change is < tol\n",
    "          max_doc_update_iter=100, # When to stop updating the document topic distribution in the E-step even if tol is not reached\n",
    "          n_jobs=-1, # Use all available CPUs to speed up processing time.\n",
    "          verbose=0, # amount of output to give while iterating\n",
    "          random_state=0\n",
    "         )\n",
    "\n",
    "Content_lda = lda.fit_transform(Content_tfidf) \n",
    "print('TFIDF shape:',Content_tfidf.shape)\n",
    "print('paras_lda shape:',Content_lda.shape)\n",
    "\n",
    "components_lda = word_topic(Content_tfidf, Content_lda, terms)\n",
    "\n",
    "topwords['LDA']=top_words(components_lda, n_top_words)"
   ]
  },
  {
   "cell_type": "markdown",
   "metadata": {},
   "source": [
    "## None negative Matrix Factorization"
   ]
  },
  {
   "cell_type": "code",
   "execution_count": 63,
   "metadata": {},
   "outputs": [],
   "source": [
    "# NNMF\n",
    "\n",
    "from sklearn.decomposition import NMF\n",
    "\n",
    "nmf = NMF(alpha=0.0, \n",
    "          init='nndsvdar', # how starting value are calculated\n",
    "          l1_ratio=0.0, # Sets whether regularization is L2 (0), L1 (1), or a combination (values between 0 and 1)\n",
    "          max_iter=200, # when to stop even if the model is not converging (to prevent running forever)\n",
    "          n_components=ntopics, \n",
    "          random_state=0, \n",
    "          solver='cd', # Use Coordinate Descent to solve\n",
    "          tol=0.0001, # model will stop if tfidf-WH <= tol\n",
    "          verbose=0 # amount of output to give while iterating\n",
    "         )\n",
    "Content_nmf = nmf.fit_transform(Content_tfidf) \n",
    "\n",
    "components_nmf = word_topic(Content_tfidf, Content_nmf, terms)\n",
    "\n",
    "topwords['NNMF']=top_words(components_nmf, n_top_words)"
   ]
  },
  {
   "cell_type": "markdown",
   "metadata": {},
   "source": [
    "## Comparison of the three extraction methods"
   ]
  },
  {
   "cell_type": "markdown",
   "metadata": {},
   "source": [
    "### Top words per topic"
   ]
  },
  {
   "cell_type": "code",
   "execution_count": 64,
   "metadata": {},
   "outputs": [
    {
     "name": "stdout",
     "output_type": "stream",
     "text": [
      "Topic 0:\n",
      "                LSA             LDA             NNMF\n",
      "0        com 214.68         ax 6.79      windows 4.4\n",
      "0    article 124.11        com 6.39         com 3.86\n",
      "0  university 117.9  university 3.8       drive 2.91\n",
      "0    posting 107.88    article 3.54  university 2.64\n",
      "0       like 106.91    posting 3.36        card 2.57\n",
      "Topic 1:\n",
      "               LSA                LDA            NNMF\n",
      "1        god 55.04         com 248.95       god 11.54\n",
      "1      people 32.6     article 142.02       jesus 5.1\n",
      "1      jesus 25.79  university 133.97     people 3.58\n",
      "1  christian 17.31         don 121.37      bible 3.26\n",
      "1      bible 17.05     posting 121.31  christian 2.94\n",
      "Topic 2:\n",
      "                LSA              LDA             NNMF\n",
      "2         key 35.04         com 6.59          key 6.2\n",
      "2     clipper 28.55  university 3.83     clipper 4.85\n",
      "2         com 27.63     article 3.73  encryption 4.71\n",
      "2  encryption 25.53     posting 3.51        chip 4.68\n",
      "2         chip 25.2        host 3.48        keys 2.76\n",
      "Topic 3:\n",
      "          LSA              LDA         NNMF\n",
      "3    cs 25.01          com 6.4      ca 3.66\n",
      "3   pitt 21.4  university 3.63    team 3.27\n",
      "3  team 20.34     article 3.32    game 3.13\n",
      "3  game 18.88      posting 3.3  hockey 2.24\n",
      "3    ca 18.42         host 3.2    year 2.16\n",
      "Topic 4:\n",
      "            LSA              LDA         NNMF\n",
      "4    pitt 19.37         com 6.27    pitt 5.21\n",
      "4     god 19.17  university 3.62     geb 5.03\n",
      "4  gordon 17.26     article 3.34  gordon 4.83\n",
      "4      geb 16.2     posting 3.26    banks 4.8\n",
      "4   banks 15.93        host 3.15      cs 3.19\n",
      "Topic 5:\n",
      "            LSA              LDA          NNMF\n",
      "5     com 87.17         com 6.37      com 9.93\n",
      "5      hp 18.61  university 3.61   people 6.19\n",
      "5   keith 18.41     article 3.37  article 5.13\n",
      "5  netcom 17.83     posting 3.35      don 4.97\n",
      "5     sgi 15.47        host 3.24     just 4.47\n"
     ]
    }
   ],
   "source": [
    "for topic in range(ntopics):\n",
    "    print('Topic {}:'.format(topic))\n",
    "    print(topwords.loc[topic])"
   ]
  },
  {
   "cell_type": "markdown",
   "metadata": {},
   "source": [
    "### Can the 6 main categories be differentiated\n",
    "![](20NewsgroupsSubcategories.JPG)"
   ]
  },
  {
   "cell_type": "code",
   "execution_count": 65,
   "metadata": {},
   "outputs": [
    {
     "name": "stdout",
     "output_type": "stream",
     "text": [
      "computer True\n",
      "sport True\n",
      "science True\n",
      "sale True\n",
      "politics True\n",
      "religion True\n"
     ]
    }
   ],
   "source": [
    "# So there are 6 main categories\n",
    "# Check if these keywords are included in the index\n",
    "subcategories1=['computer','sport','science','sale','politics','religion']\n",
    "for word in subcategories1:\n",
    "    print(word, word in terms)"
   ]
  },
  {
   "cell_type": "code",
   "execution_count": 80,
   "metadata": {},
   "outputs": [
    {
     "data": {
      "text/plain": [
       "0    59.648536\n",
       "1   -19.509764\n",
       "2    -5.596580\n",
       "3     2.794230\n",
       "4     7.167355\n",
       "5    -3.296106\n",
       "0     1.813655\n",
       "1    70.773155\n",
       "2     1.923853\n",
       "3     1.741812\n",
       "4     1.772023\n",
       "5     1.748447\n",
       "0     1.910290\n",
       "1     0.392870\n",
       "2     0.755968\n",
       "3     0.618246\n",
       "4     1.289660\n",
       "5     1.409120\n",
       "Name: computer, dtype: float64"
      ]
     },
     "execution_count": 80,
     "metadata": {},
     "output_type": "execute_result"
    }
   ],
   "source": [
    "components_lsa.loc['computer'].append(components_lda.loc['computer'].append(components_nmf.loc['computer']))"
   ]
  },
  {
   "cell_type": "code",
   "execution_count": 74,
   "metadata": {},
   "outputs": [
    {
     "data": {
      "image/png": "[encoded data removed]",
      "text/plain": [
       "<Figure size 432x288 with 3 Axes>"
      ]
     },
     "metadata": {},
     "output_type": "display_data"
    },
    {
     "data": {
      "image/png": "[encoded data removed]",
      "text/plain": [
       "<Figure size 432x288 with 3 Axes>"
      ]
     },
     "metadata": {},
     "output_type": "display_data"
    },
    {
     "data": {
      "image/png": "[encoded data removed]",
      "text/plain": [
       "<Figure size 432x288 with 3 Axes>"
      ]
     },
     "metadata": {},
     "output_type": "display_data"
    },
    {
     "data": {
      "image/png": "[encoded data removed]",
      "text/plain": [
       "<Figure size 432x288 with 3 Axes>"
      ]
     },
     "metadata": {},
     "output_type": "display_data"
    },
    {
     "data": {
      "image/png": "[encoded data removed]",
      "text/plain": [
       "<Figure size 432x288 with 3 Axes>"
      ]
     },
     "metadata": {},
     "output_type": "display_data"
    },
    {
     "data": {
      "image/png": "[encoded data removed]",
      "text/plain": [
       "<Figure size 432x288 with 3 Axes>"
      ]
     },
     "metadata": {},
     "output_type": "display_data"
    }
   ],
   "source": [
    "import math\n",
    "# Let's plot the data, to get a better overview\n",
    "# Each Target words should describe each category\n",
    "# let's try this first with the subcategories\n",
    "subcategories1=['computer','sport','science','sale','politics','religion']\n",
    "\n",
    "# Storing the loadings.\n",
    "wordloadings1=pd.DataFrame(columns=subcategories1)\n",
    "\n",
    "# For each word, extracting and string the loadings for each method.\n",
    "for word in subcategories1:\n",
    "    loadings=components_lsa.loc[word].append(\n",
    "        components_lda.loc[word]).append(\n",
    "            components_nmf.loc[word])\n",
    "    wordloadings1[word]=loadings\n",
    "\n",
    "# Labeling the data by method and providing an ordering variable for graphing purposes. \n",
    "wordloadings1['method']=np.repeat(['LSA','LDA','NNMF'], 6, axis=0)\n",
    "wordloadings1['loading']=[0,1,2,3,4,5]*3\n",
    "\n",
    "sns.set(style=\"darkgrid\")\n",
    "\n",
    "for word in subcategories1:\n",
    "    #Make two plots each, so that the loading in  the NNMF are also visible\n",
    "    f, (ax1, ax2, ax3) = plt.subplots(ncols=1, nrows=3, sharex=True)\n",
    "    \n",
    "    # Determine the maxY values for the split plots\n",
    "    # Max of the top graph\n",
    "    maxY1=math.ceil(wordloadings1[word].max())+math.ceil(wordloadings1[word].max())/5\n",
    "    # Max of the lower graph is max of the NNMF feature\n",
    "    maxNNMF=wordloadings1[word][wordloadings1.method=='NNMF'].max()\n",
    "    maxY2=math.ceil(maxNNMF)+math.ceil(maxNNMF)/5\n",
    "    \n",
    "    minY3=wordloadings1[word].min()\n",
    "    \n",
    "    # Top graph\n",
    "    ax = sns.barplot(data=wordloadings1,x=\"method\", y=word, hue=\"loading\", ax=ax1)\n",
    "    #ax.legend().set_visible(False)  \n",
    "    ax1.set_ylim(maxY2, maxY1)\n",
    "    ax1.set_title(word)\n",
    "    \n",
    "    ax = sns.barplot(data=wordloadings1,x=\"method\", y=word, hue=\"loading\", ax=ax2)\n",
    "    ax.legend().set_visible(False)\n",
    "    ax2.set_ylim(0, maxY2)\n",
    "    \n",
    "    ax = sns.barplot(data=wordloadings1,x=\"method\", y=word, hue=\"loading\", ax=ax3)\n",
    "    ax.legend().set_visible(False)\n",
    "    ax3.set_ylim(minY3, 0)\n",
    "\n",
    "    plt.subplots_adjust(wspace=0, hspace=0)\n"
   ]
  },
  {
   "cell_type": "markdown",
   "metadata": {},
   "source": [
    "# Results\n",
    "\n",
    "Initially, I tried to differentiate all 20 categories, that was a little too ambitious. With the 6 subcategories, however, the results don't look that bad at least for the NNMF.\n",
    "LSA and LDA, can not differentiate those 6 keywords into different topics, NNMF does. For each keyword, another is loading is the top hit.<br>\n",
    "NNMF wins because the matrix is the most sparse, meaning it links the fewest words to a topic. "
   ]
  }
 ],
 "metadata": {
  "kernelspec": {
   "display_name": "Python 3",
   "language": "python",
   "name": "python3"
  },
  "language_info": {
   "codemirror_mode": {
    "name": "ipython",
    "version": 3
   },
   "file_extension": ".py",
   "mimetype": "text/x-python",
   "name": "python",
   "nbconvert_exporter": "python",
   "pygments_lexer": "ipython3",
   "version": "3.6.5"
  },
  "toc": {
   "base_numbering": 1,
   "nav_menu": {},
   "number_sections": true,
   "sideBar": true,
   "skip_h1_title": false,
   "title_cell": "Table of Contents",
   "title_sidebar": "Contents",
   "toc_cell": false,
   "toc_position": {},
   "toc_section_display": true,
   "toc_window_display": true
  },
  "varInspector": {
   "cols": {
    "lenName": 16,
    "lenType": 16,
    "lenVar": 40
   },
   "kernels_config": {
    "python": {
     "delete_cmd_postfix": "",
     "delete_cmd_prefix": "del ",
     "library": "var_list.py",
     "varRefreshCmd": "print(var_dic_list())"
    },
    "r": {
     "delete_cmd_postfix": ") ",
     "delete_cmd_prefix": "rm(",
     "library": "var_list.r",
     "varRefreshCmd": "cat(var_dic_list()) "
    }
   },
   "types_to_exclude": [
    "module",
    "function",
    "builtin_function_or_method",
    "instance",
    "_Feature"
   ],
   "window_display": false
  }
 },
 "nbformat": 4,
 "nbformat_minor": 2
}
