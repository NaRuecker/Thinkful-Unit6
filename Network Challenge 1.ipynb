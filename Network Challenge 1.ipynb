{
 "cells": [
  {
   "cell_type": "markdown",
   "metadata": {},
   "source": [
    "<img src=\"NetworkEX.PNG\" alt=\"drawing\" width=\"400\"/>"
   ]
  },
  {
   "cell_type": "markdown",
   "metadata": {},
   "source": [
    "# Calculate the degree of each node"
   ]
  },
  {
   "cell_type": "markdown",
   "metadata": {},
   "source": [
    "Deree = Number of nodes directed to that node <br>\n",
    "Mom:1<br> \n",
    "Alice:2<br>\n",
    "You:5<br>\n",
    "Fiancee:4<br>\n",
    "Brian:3 <br>\n",
    "Dave:3<br>\n",
    "\n",
    "# Calculate the clustering coefficient for each node"
   ]
  },
  {
   "cell_type": "markdown",
   "metadata": {},
   "source": [
    "Mom=NA<br>\n",
    "Alice: kv=2, Nv=1 => cc(Allice)=1<br>\n",
    "You: kv=5, Nv=4 => cc(You)=10/12=5/6<br>\n",
    "Fiancee: kv=4, Nv=4 => cc(Fiancee)=8/12=2/3<br>\n",
    "Brian: kv=3,Nv=3 => cc(Brian)=6/6=1 <br>\n",
    "Dave: kv=3,Nv=3 => cc(Dave)=6/6=1 <br>\n",
    "\n",
    "# Calculate the shortest paths between each pair of nodes"
   ]
  },
  {
   "cell_type": "markdown",
   "metadata": {},
   "source": [
    "{You, Mom}:1 <br>\n",
    "{You,Fiancee}:1<br>\n",
    "{You,ALice}:1<br>\n",
    "{You,Brian}:1<br>\n",
    "{You,Dave}:1<br>\n",
    "{Mom,Finacee}:2<br>\n",
    "{Mom,Alice}:2<br>\n",
    "{Mom,Brian}:2<br>\n",
    "{Mom,Dave}:2<br>\n",
    "{Fiance,Alice}:1<br>\n",
    "{Finacee, Brian}:1<br>\n",
    "{Fiance,Dave}:1<br>\n",
    "{Alice,Brian}:2<br>\n",
    "{Alice,Dave}:2<br>\n",
    "{Brian,Dave}:1<br>\n",
    "\n",
    "\n",
    "# Calculate the betweenness centrality of each node\n",
    " Betweenness: How many times is the node part of the shortest path between two nodes\n",
    " You: 6/15 <br>\n",
    " Fiancee: 2/15 <br>\n",
    " Alice:0/15 <br>\n",
    " Mom:0/15 <br>\n",
    " Brian:0/15 <br>\n",
    " Dave:0/15 <br>\n",
    " \n",
    "# Find a walk of length 5 linking Fiancee to You\n",
    "\n",
    "{Fiancee, Dave, Brian, Dave, You} or {Fiancee, You, Aunt Alice, Fiancee, You} or {Fiancee, Brian, Dave, Brian, You} or {Fiancee, Brian, You, Aunt Alice, You}\n",
    "\n",
    "# Find the shortest path linking Dave to Mom\n",
    "{Dave,You,Mom}\n",
    "\n",
    "#  How long is a cycle linking You to Aunt Alice? \n",
    "3 {You, Fiancee, Aunt Alice, You}"
   ]
  },
  {
   "cell_type": "code",
   "execution_count": null,
   "metadata": {},
   "outputs": [],
   "source": []
  }
 ],
 "metadata": {
  "kernelspec": {
   "display_name": "Python 3",
   "language": "python",
   "name": "python3"
  },
  "language_info": {
   "codemirror_mode": {
    "name": "ipython",
    "version": 3
   },
   "file_extension": ".py",
   "mimetype": "text/x-python",
   "name": "python",
   "nbconvert_exporter": "python",
   "pygments_lexer": "ipython3",
   "version": "3.6.5"
  },
  "toc": {
   "base_numbering": 1,
   "nav_menu": {},
   "number_sections": true,
   "sideBar": true,
   "skip_h1_title": false,
   "title_cell": "Table of Contents",
   "title_sidebar": "Contents",
   "toc_cell": false,
   "toc_position": {},
   "toc_section_display": true,
   "toc_window_display": false
  },
  "varInspector": {
   "cols": {
    "lenName": 16,
    "lenType": 16,
    "lenVar": 40
   },
   "kernels_config": {
    "python": {
     "delete_cmd_postfix": "",
     "delete_cmd_prefix": "del ",
     "library": "var_list.py",
     "varRefreshCmd": "print(var_dic_list())"
    },
    "r": {
     "delete_cmd_postfix": ") ",
     "delete_cmd_prefix": "rm(",
     "library": "var_list.r",
     "varRefreshCmd": "cat(var_dic_list()) "
    }
   },
   "types_to_exclude": [
    "module",
    "function",
    "builtin_function_or_method",
    "instance",
    "_Feature"
   ],
   "window_display": false
  }
 },
 "nbformat": 4,
 "nbformat_minor": 2
}
